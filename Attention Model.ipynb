{
 "cells": [
  {
   "cell_type": "code",
   "execution_count": 1,
   "metadata": {
    "colab": {
     "base_uri": "https://localhost:8080/"
    },
    "id": "gyO8h7loyUfr",
    "outputId": "d7eee0ef-eb61-423c-90d5-fccffe293ced"
   },
   "outputs": [
    {
     "name": "stdout",
     "output_type": "stream",
     "text": [
      "Cloning into 'dso-560-nlp-text-analytics'...\n",
      "remote: Enumerating objects: 3206, done.\u001b[K\n",
      "remote: Total 3206 (delta 0), reused 0 (delta 0), pack-reused 3206\u001b[K\n",
      "Receiving objects: 100% (3206/3206), 95.46 MiB | 14.61 MiB/s, done.\n",
      "Resolving deltas: 100% (411/411), done.\n",
      "Checking out files: 100% (3186/3186), done.\n"
     ]
    }
   ],
   "source": [
    "!rm -rf dso-560-nlp-text-analytics && git clone https://github.com/ychennay/dso-560-nlp-text-analytics"
   ]
  },
  {
   "cell_type": "code",
   "execution_count": 4,
   "metadata": {
    "colab": {
     "base_uri": "https://localhost:8080/"
    },
    "id": "A4G2F7OhyWLO",
    "outputId": "fb7df1f7-6845-4870-b3b6-42dd15c5d803"
   },
   "outputs": [
    {
     "name": "stdout",
     "output_type": "stream",
     "text": [
      "/content/dso-560-nlp-text-analytics\n"
     ]
    }
   ],
   "source": [
    "%cd dso-560-nlp-text-analytics"
   ]
  },
  {
   "cell_type": "markdown",
   "metadata": {
    "id": "9e_ZBMG2x3Jh"
   },
   "source": [
    "# Attention and Transformers\n",
    "\n",
    "The original *Attention Is All You Need* paper is [available here](https://arxiv.org/pdf/1706.03762.pdf).\n",
    "\n",
    "The overall architecture of the **Transformer** model is defined here from the paper:\n",
    "![transformers](https://github.com/ychennay/dso-560-nlp-text-analytics/blob/main/images/transformers.png?raw=1)"
   ]
  },
  {
   "cell_type": "markdown",
   "metadata": {
    "id": "faWggRwOx3Jj"
   },
   "source": [
    "## Define Configurations"
   ]
  },
  {
   "cell_type": "code",
   "execution_count": 2,
   "metadata": {
    "id": "2udDJPDCx3Jk"
   },
   "outputs": [],
   "source": [
    "VOCAB_SIZE = 25000"
   ]
  },
  {
   "cell_type": "code",
   "execution_count": 3,
   "metadata": {
    "id": "Qj31r5sCx3Jk"
   },
   "outputs": [],
   "source": [
    "from keras.layers import Input, Dense, LSTM, Flatten, concatenate, Activation, RepeatVector, Permute\n",
    "from keras.models import Model\n",
    "from keras.preprocessing.sequence import pad_sequences\n",
    "from tensorflow.keras.optimizers import Adam\n",
    "from random import randint\n",
    "from numpy import array, argmax, asarray, zeros\n",
    "from keras.models import Sequential\n",
    "from keras.layers import Dense\n",
    "from keras.layers import Embedding\n",
    "import numpy as np \n",
    "import spacy\n",
    "nlp = spacy.load('en_core_web_sm', disable=[\"pos\", \"ner\", \"tagger\"])"
   ]
  },
  {
   "cell_type": "markdown",
   "metadata": {
    "id": "2bstXqPxx3Jl"
   },
   "source": [
    "## Load in Amazon Reviews Dataset"
   ]
  },
  {
   "cell_type": "code",
   "execution_count": 66,
   "metadata": {
    "id": "DepsWseLx3Jl"
   },
   "outputs": [],
   "source": [
    "# import numpy as np\n",
    "# NUM_SAMPLES = 2000\n",
    "\n",
    "# good_reviews = open(\"datasets/good_amazon_toy_reviews.txt\").readlines()\n",
    "# bad_reviews = open(\"datasets/poor_amazon_toy_reviews.txt\").readlines()\n",
    "\n",
    "# sampled_good_reviews = good_reviews[:NUM_SAMPLES]\n",
    "# sampled_bad_reviews = bad_reviews[:NUM_SAMPLES]\n",
    "\n",
    "# docs = sampled_good_reviews + sampled_bad_reviews\n",
    "# labels = np.concatenate([np.ones(NUM_SAMPLES), np.zeros(NUM_SAMPLES)])"
   ]
  },
  {
   "cell_type": "markdown",
   "metadata": {
    "id": "yjhjLvJwx3Jm"
   },
   "source": [
    "## Remove Stopwords"
   ]
  },
  {
   "cell_type": "code",
   "execution_count": 4,
   "metadata": {
    "id": "2NY77lqEDa-8"
   },
   "outputs": [],
   "source": [
    "!pip install -U -q PyDrive\n",
    " \n",
    "from pydrive.auth import GoogleAuth\n",
    "from pydrive.drive import GoogleDrive\n",
    "from google.colab import auth\n",
    "from oauth2client.client import GoogleCredentials\n",
    " \n",
    " \n",
    "# Authenticate and create the PyDrive client.\n",
    "auth.authenticate_user()\n",
    "gauth = GoogleAuth()\n",
    "gauth.credentials = GoogleCredentials.get_application_default()\n",
    "drive = GoogleDrive(gauth)"
   ]
  },
  {
   "cell_type": "code",
   "execution_count": 5,
   "metadata": {
    "colab": {
     "base_uri": "https://localhost:8080/",
     "height": 774
    },
    "id": "V2YmN6bHD8fY",
    "outputId": "48d6354b-541f-4dfd-c7aa-7aa92a2a95ba"
   },
   "outputs": [
    {
     "data": {
      "text/html": [
       "\n",
       "  <div id=\"df-aeba7820-4e1f-4f09-bdde-7964c78ede3e\">\n",
       "    <div class=\"colab-df-container\">\n",
       "      <div>\n",
       "<style scoped>\n",
       "    .dataframe tbody tr th:only-of-type {\n",
       "        vertical-align: middle;\n",
       "    }\n",
       "\n",
       "    .dataframe tbody tr th {\n",
       "        vertical-align: top;\n",
       "    }\n",
       "\n",
       "    .dataframe thead th {\n",
       "        text-align: right;\n",
       "    }\n",
       "</style>\n",
       "<table border=\"1\" class=\"dataframe\">\n",
       "  <thead>\n",
       "    <tr style=\"text-align: right;\">\n",
       "      <th></th>\n",
       "      <th>Hotel_Address</th>\n",
       "      <th>Additional_Number_of_Scoring</th>\n",
       "      <th>Review_Date</th>\n",
       "      <th>Average_Score</th>\n",
       "      <th>Hotel_Name</th>\n",
       "      <th>Reviewer_Nationality</th>\n",
       "      <th>Negative_Review</th>\n",
       "      <th>Review_Total_Negative_Word_Counts</th>\n",
       "      <th>Total_Number_of_Reviews</th>\n",
       "      <th>Positive_Review</th>\n",
       "      <th>Review_Total_Positive_Word_Counts</th>\n",
       "      <th>Total_Number_of_Reviews_Reviewer_Has_Given</th>\n",
       "      <th>Reviewer_Score</th>\n",
       "      <th>Tags</th>\n",
       "      <th>days_since_review</th>\n",
       "      <th>lat</th>\n",
       "      <th>lng</th>\n",
       "      <th>negative_regex</th>\n",
       "      <th>positive_regex</th>\n",
       "    </tr>\n",
       "  </thead>\n",
       "  <tbody>\n",
       "    <tr>\n",
       "      <th>0</th>\n",
       "      <td>s Gravesandestraat 55 Oost 1092 AA Amsterdam ...</td>\n",
       "      <td>194</td>\n",
       "      <td>7/31/17</td>\n",
       "      <td>7.7</td>\n",
       "      <td>Hotel Arena</td>\n",
       "      <td>United Kingdom</td>\n",
       "      <td>My room was dirty and I was afraid to walk ba...</td>\n",
       "      <td>210</td>\n",
       "      <td>1403</td>\n",
       "      <td>Great location in nice surroundings the bar a...</td>\n",
       "      <td>26</td>\n",
       "      <td>1</td>\n",
       "      <td>3.8</td>\n",
       "      <td>[' Leisure trip ', ' Solo traveler ', ' Duplex...</td>\n",
       "      <td>3</td>\n",
       "      <td>52.360576</td>\n",
       "      <td>4.915968</td>\n",
       "      <td>room dirty afraid walk barefoot floor look not...</td>\n",
       "      <td>great location nice surroundings bar restauran...</td>\n",
       "    </tr>\n",
       "    <tr>\n",
       "      <th>1</th>\n",
       "      <td>s Gravesandestraat 55 Oost 1092 AA Amsterdam ...</td>\n",
       "      <td>194</td>\n",
       "      <td>7/17/17</td>\n",
       "      <td>7.7</td>\n",
       "      <td>Hotel Arena</td>\n",
       "      <td>United Kingdom</td>\n",
       "      <td>Cleaner did not change our sheet and duvet ev...</td>\n",
       "      <td>33</td>\n",
       "      <td>1403</td>\n",
       "      <td>The room is spacious and bright The hotel is ...</td>\n",
       "      <td>18</td>\n",
       "      <td>6</td>\n",
       "      <td>4.6</td>\n",
       "      <td>[' Leisure trip ', ' Group ', ' Duplex Twin Ro...</td>\n",
       "      <td>17</td>\n",
       "      <td>52.360576</td>\n",
       "      <td>4.915968</td>\n",
       "      <td>cleaner not change sheet duvet everyday bed di...</td>\n",
       "      <td>room spacious bright locate quiet beautiful park</td>\n",
       "    </tr>\n",
       "    <tr>\n",
       "      <th>2</th>\n",
       "      <td>s Gravesandestraat 55 Oost 1092 AA Amsterdam ...</td>\n",
       "      <td>194</td>\n",
       "      <td>7/17/17</td>\n",
       "      <td>7.7</td>\n",
       "      <td>Hotel Arena</td>\n",
       "      <td>United Kingdom</td>\n",
       "      <td>Apart from the price for the brekfast Everyth...</td>\n",
       "      <td>11</td>\n",
       "      <td>1403</td>\n",
       "      <td>Good location Set in a lovely park friendly s...</td>\n",
       "      <td>19</td>\n",
       "      <td>1</td>\n",
       "      <td>10.0</td>\n",
       "      <td>[' Leisure trip ', ' Couple ', ' Duplex Double...</td>\n",
       "      <td>17</td>\n",
       "      <td>52.360576</td>\n",
       "      <td>4.915968</td>\n",
       "      <td>apart price breakfast good</td>\n",
       "      <td>good location set lovely park friendly staff f...</td>\n",
       "    </tr>\n",
       "    <tr>\n",
       "      <th>3</th>\n",
       "      <td>s Gravesandestraat 55 Oost 1092 AA Amsterdam ...</td>\n",
       "      <td>194</td>\n",
       "      <td>7/7/17</td>\n",
       "      <td>7.7</td>\n",
       "      <td>Hotel Arena</td>\n",
       "      <td>United Kingdom</td>\n",
       "      <td>Nothing all great</td>\n",
       "      <td>5</td>\n",
       "      <td>1403</td>\n",
       "      <td>Rooms were stunningly decorated and really sp...</td>\n",
       "      <td>101</td>\n",
       "      <td>2</td>\n",
       "      <td>10.0</td>\n",
       "      <td>[' Leisure trip ', ' Group ', ' Duplex Double ...</td>\n",
       "      <td>27</td>\n",
       "      <td>52.360576</td>\n",
       "      <td>4.915968</td>\n",
       "      <td>great</td>\n",
       "      <td>room stunningly decorate spacious building pic...</td>\n",
       "    </tr>\n",
       "    <tr>\n",
       "      <th>4</th>\n",
       "      <td>s Gravesandestraat 55 Oost 1092 AA Amsterdam ...</td>\n",
       "      <td>194</td>\n",
       "      <td>7/6/17</td>\n",
       "      <td>7.7</td>\n",
       "      <td>Hotel Arena</td>\n",
       "      <td>United Kingdom</td>\n",
       "      <td>The floor in my room was filfy dirty Very bas...</td>\n",
       "      <td>28</td>\n",
       "      <td>1403</td>\n",
       "      <td>Comfy bed good location</td>\n",
       "      <td>6</td>\n",
       "      <td>7</td>\n",
       "      <td>4.6</td>\n",
       "      <td>[' Leisure trip ', ' Solo traveler ', ' Duplex...</td>\n",
       "      <td>28</td>\n",
       "      <td>52.360576</td>\n",
       "      <td>4.915968</td>\n",
       "      <td>floor room filthy dirty basic room _NUMBER_ ol...</td>\n",
       "      <td>comfortableee bed good location</td>\n",
       "    </tr>\n",
       "  </tbody>\n",
       "</table>\n",
       "</div>\n",
       "      <button class=\"colab-df-convert\" onclick=\"convertToInteractive('df-aeba7820-4e1f-4f09-bdde-7964c78ede3e')\"\n",
       "              title=\"Convert this dataframe to an interactive table.\"\n",
       "              style=\"display:none;\">\n",
       "        \n",
       "  <svg xmlns=\"http://www.w3.org/2000/svg\" height=\"24px\"viewBox=\"0 0 24 24\"\n",
       "       width=\"24px\">\n",
       "    <path d=\"M0 0h24v24H0V0z\" fill=\"none\"/>\n",
       "    <path d=\"M18.56 5.44l.94 2.06.94-2.06 2.06-.94-2.06-.94-.94-2.06-.94 2.06-2.06.94zm-11 1L8.5 8.5l.94-2.06 2.06-.94-2.06-.94L8.5 2.5l-.94 2.06-2.06.94zm10 10l.94 2.06.94-2.06 2.06-.94-2.06-.94-.94-2.06-.94 2.06-2.06.94z\"/><path d=\"M17.41 7.96l-1.37-1.37c-.4-.4-.92-.59-1.43-.59-.52 0-1.04.2-1.43.59L10.3 9.45l-7.72 7.72c-.78.78-.78 2.05 0 2.83L4 21.41c.39.39.9.59 1.41.59.51 0 1.02-.2 1.41-.59l7.78-7.78 2.81-2.81c.8-.78.8-2.07 0-2.86zM5.41 20L4 18.59l7.72-7.72 1.47 1.35L5.41 20z\"/>\n",
       "  </svg>\n",
       "      </button>\n",
       "      \n",
       "  <style>\n",
       "    .colab-df-container {\n",
       "      display:flex;\n",
       "      flex-wrap:wrap;\n",
       "      gap: 12px;\n",
       "    }\n",
       "\n",
       "    .colab-df-convert {\n",
       "      background-color: #E8F0FE;\n",
       "      border: none;\n",
       "      border-radius: 50%;\n",
       "      cursor: pointer;\n",
       "      display: none;\n",
       "      fill: #1967D2;\n",
       "      height: 32px;\n",
       "      padding: 0 0 0 0;\n",
       "      width: 32px;\n",
       "    }\n",
       "\n",
       "    .colab-df-convert:hover {\n",
       "      background-color: #E2EBFA;\n",
       "      box-shadow: 0px 1px 2px rgba(60, 64, 67, 0.3), 0px 1px 3px 1px rgba(60, 64, 67, 0.15);\n",
       "      fill: #174EA6;\n",
       "    }\n",
       "\n",
       "    [theme=dark] .colab-df-convert {\n",
       "      background-color: #3B4455;\n",
       "      fill: #D2E3FC;\n",
       "    }\n",
       "\n",
       "    [theme=dark] .colab-df-convert:hover {\n",
       "      background-color: #434B5C;\n",
       "      box-shadow: 0px 1px 3px 1px rgba(0, 0, 0, 0.15);\n",
       "      filter: drop-shadow(0px 1px 2px rgba(0, 0, 0, 0.3));\n",
       "      fill: #FFFFFF;\n",
       "    }\n",
       "  </style>\n",
       "\n",
       "      <script>\n",
       "        const buttonEl =\n",
       "          document.querySelector('#df-aeba7820-4e1f-4f09-bdde-7964c78ede3e button.colab-df-convert');\n",
       "        buttonEl.style.display =\n",
       "          google.colab.kernel.accessAllowed ? 'block' : 'none';\n",
       "\n",
       "        async function convertToInteractive(key) {\n",
       "          const element = document.querySelector('#df-aeba7820-4e1f-4f09-bdde-7964c78ede3e');\n",
       "          const dataTable =\n",
       "            await google.colab.kernel.invokeFunction('convertToInteractive',\n",
       "                                                     [key], {});\n",
       "          if (!dataTable) return;\n",
       "\n",
       "          const docLinkHtml = 'Like what you see? Visit the ' +\n",
       "            '<a target=\"_blank\" href=https://colab.research.google.com/notebooks/data_table.ipynb>data table notebook</a>'\n",
       "            + ' to learn more about interactive tables.';\n",
       "          element.innerHTML = '';\n",
       "          dataTable['output_type'] = 'display_data';\n",
       "          await google.colab.output.renderOutput(dataTable, element);\n",
       "          const docLink = document.createElement('div');\n",
       "          docLink.innerHTML = docLinkHtml;\n",
       "          element.appendChild(docLink);\n",
       "        }\n",
       "      </script>\n",
       "    </div>\n",
       "  </div>\n",
       "  "
      ],
      "text/plain": [
       "                                       Hotel_Address  \\\n",
       "0   s Gravesandestraat 55 Oost 1092 AA Amsterdam ...   \n",
       "1   s Gravesandestraat 55 Oost 1092 AA Amsterdam ...   \n",
       "2   s Gravesandestraat 55 Oost 1092 AA Amsterdam ...   \n",
       "3   s Gravesandestraat 55 Oost 1092 AA Amsterdam ...   \n",
       "4   s Gravesandestraat 55 Oost 1092 AA Amsterdam ...   \n",
       "\n",
       "   Additional_Number_of_Scoring Review_Date  Average_Score   Hotel_Name  \\\n",
       "0                           194     7/31/17            7.7  Hotel Arena   \n",
       "1                           194     7/17/17            7.7  Hotel Arena   \n",
       "2                           194     7/17/17            7.7  Hotel Arena   \n",
       "3                           194      7/7/17            7.7  Hotel Arena   \n",
       "4                           194      7/6/17            7.7  Hotel Arena   \n",
       "\n",
       "  Reviewer_Nationality                                    Negative_Review  \\\n",
       "0      United Kingdom    My room was dirty and I was afraid to walk ba...   \n",
       "1      United Kingdom    Cleaner did not change our sheet and duvet ev...   \n",
       "2      United Kingdom    Apart from the price for the brekfast Everyth...   \n",
       "3      United Kingdom                                  Nothing all great    \n",
       "4      United Kingdom    The floor in my room was filfy dirty Very bas...   \n",
       "\n",
       "   Review_Total_Negative_Word_Counts  Total_Number_of_Reviews  \\\n",
       "0                                210                     1403   \n",
       "1                                 33                     1403   \n",
       "2                                 11                     1403   \n",
       "3                                  5                     1403   \n",
       "4                                 28                     1403   \n",
       "\n",
       "                                     Positive_Review  \\\n",
       "0   Great location in nice surroundings the bar a...   \n",
       "1   The room is spacious and bright The hotel is ...   \n",
       "2   Good location Set in a lovely park friendly s...   \n",
       "3   Rooms were stunningly decorated and really sp...   \n",
       "4                           Comfy bed good location    \n",
       "\n",
       "   Review_Total_Positive_Word_Counts  \\\n",
       "0                                 26   \n",
       "1                                 18   \n",
       "2                                 19   \n",
       "3                                101   \n",
       "4                                  6   \n",
       "\n",
       "   Total_Number_of_Reviews_Reviewer_Has_Given  Reviewer_Score  \\\n",
       "0                                           1             3.8   \n",
       "1                                           6             4.6   \n",
       "2                                           1            10.0   \n",
       "3                                           2            10.0   \n",
       "4                                           7             4.6   \n",
       "\n",
       "                                                Tags  days_since_review  \\\n",
       "0  [' Leisure trip ', ' Solo traveler ', ' Duplex...                  3   \n",
       "1  [' Leisure trip ', ' Group ', ' Duplex Twin Ro...                 17   \n",
       "2  [' Leisure trip ', ' Couple ', ' Duplex Double...                 17   \n",
       "3  [' Leisure trip ', ' Group ', ' Duplex Double ...                 27   \n",
       "4  [' Leisure trip ', ' Solo traveler ', ' Duplex...                 28   \n",
       "\n",
       "         lat       lng                                     negative_regex  \\\n",
       "0  52.360576  4.915968  room dirty afraid walk barefoot floor look not...   \n",
       "1  52.360576  4.915968  cleaner not change sheet duvet everyday bed di...   \n",
       "2  52.360576  4.915968                        apart price breakfast good    \n",
       "3  52.360576  4.915968                                             great    \n",
       "4  52.360576  4.915968  floor room filthy dirty basic room _NUMBER_ ol...   \n",
       "\n",
       "                                      positive_regex  \n",
       "0  great location nice surroundings bar restauran...  \n",
       "1  room spacious bright locate quiet beautiful park   \n",
       "2  good location set lovely park friendly staff f...  \n",
       "3  room stunningly decorate spacious building pic...  \n",
       "4                   comfortableee bed good location   "
      ]
     },
     "execution_count": 5,
     "metadata": {},
     "output_type": "execute_result"
    }
   ],
   "source": [
    "link = 'https://drive.google.com/file/d/1MSsJGBwUKRBxTUPSl03KXeRIgHYTN8Dl/view?usp=sharing'\n",
    " \n",
    "import pandas as pd\n",
    " \n",
    "# to get the id part of the file\n",
    "id = link.split(\"/\")[-2]\n",
    " \n",
    "downloaded = drive.CreateFile({'id':id})\n",
    "downloaded.GetContentFile('xclara.csv') \n",
    " \n",
    "df = pd.read_csv('xclara.csv')\n",
    "df.head()"
   ]
  },
  {
   "cell_type": "code",
   "execution_count": 11,
   "metadata": {
    "id": "AUFzWxlcl_E_"
   },
   "outputs": [],
   "source": [
    "neg=pd.DataFrame()"
   ]
  },
  {
   "cell_type": "code",
   "execution_count": 12,
   "metadata": {
    "id": "6o3Dqj-zmJJk"
   },
   "outputs": [],
   "source": [
    "pos=pd.DataFrame()"
   ]
  },
  {
   "cell_type": "code",
   "execution_count": 13,
   "metadata": {
    "id": "YYNR98mTEZWV"
   },
   "outputs": [],
   "source": [
    "neg['review'] = df['negative_regex']"
   ]
  },
  {
   "cell_type": "code",
   "execution_count": 14,
   "metadata": {
    "id": "YYlkWMzFEnBq"
   },
   "outputs": [],
   "source": [
    "pos['review'] = df['positive_regex']"
   ]
  },
  {
   "cell_type": "code",
   "execution_count": 15,
   "metadata": {
    "colab": {
     "base_uri": "https://localhost:8080/"
    },
    "id": "SbIDis2XErro",
    "outputId": "41dd75f3-5a46-4c14-e2f7-7c12456e6b47"
   },
   "outputs": [
    {
     "data": {
      "text/plain": [
       "review    842\n",
       "dtype: int64"
      ]
     },
     "execution_count": 15,
     "metadata": {},
     "output_type": "execute_result"
    }
   ],
   "source": [
    "pos.isnull().sum()"
   ]
  },
  {
   "cell_type": "code",
   "execution_count": 16,
   "metadata": {
    "colab": {
     "base_uri": "https://localhost:8080/"
    },
    "id": "DrE2XU-WEg4-",
    "outputId": "cd51e644-c95f-4ee2-9c90-0cb636fce571"
   },
   "outputs": [
    {
     "data": {
      "text/plain": [
       "review    7350\n",
       "dtype: int64"
      ]
     },
     "execution_count": 16,
     "metadata": {},
     "output_type": "execute_result"
    }
   ],
   "source": [
    "neg.isnull().sum()"
   ]
  },
  {
   "cell_type": "code",
   "execution_count": 17,
   "metadata": {
    "id": "x9FttiTvFKe0"
   },
   "outputs": [],
   "source": [
    "pos.dropna(inplace=True)"
   ]
  },
  {
   "cell_type": "code",
   "execution_count": 18,
   "metadata": {
    "id": "7sAT8jTUE6qF"
   },
   "outputs": [],
   "source": [
    "neg.dropna(inplace=True)"
   ]
  },
  {
   "cell_type": "code",
   "execution_count": 19,
   "metadata": {
    "id": "Oz5sa3VcF8rp"
   },
   "outputs": [],
   "source": [
    "neg['label']=0"
   ]
  },
  {
   "cell_type": "code",
   "execution_count": 23,
   "metadata": {
    "colab": {
     "base_uri": "https://localhost:8080/",
     "height": 206
    },
    "id": "uqCF_4EzGCjp",
    "outputId": "7bd9880c-5459-4bfe-f449-4cd25432f9bd"
   },
   "outputs": [
    {
     "data": {
      "text/html": [
       "\n",
       "  <div id=\"df-ebb244e5-8055-42e4-a8a4-08720da22c29\">\n",
       "    <div class=\"colab-df-container\">\n",
       "      <div>\n",
       "<style scoped>\n",
       "    .dataframe tbody tr th:only-of-type {\n",
       "        vertical-align: middle;\n",
       "    }\n",
       "\n",
       "    .dataframe tbody tr th {\n",
       "        vertical-align: top;\n",
       "    }\n",
       "\n",
       "    .dataframe thead th {\n",
       "        text-align: right;\n",
       "    }\n",
       "</style>\n",
       "<table border=\"1\" class=\"dataframe\">\n",
       "  <thead>\n",
       "    <tr style=\"text-align: right;\">\n",
       "      <th></th>\n",
       "      <th>review</th>\n",
       "      <th>label</th>\n",
       "    </tr>\n",
       "  </thead>\n",
       "  <tbody>\n",
       "    <tr>\n",
       "      <th>241565</th>\n",
       "      <td>little food availability</td>\n",
       "      <td>0</td>\n",
       "    </tr>\n",
       "    <tr>\n",
       "      <th>241566</th>\n",
       "      <td>small reception small _NUMBER_ hour bar</td>\n",
       "      <td>0</td>\n",
       "    </tr>\n",
       "    <tr>\n",
       "      <th>241567</th>\n",
       "      <td>room warm</td>\n",
       "      <td>0</td>\n",
       "    </tr>\n",
       "    <tr>\n",
       "      <th>241568</th>\n",
       "      <td>no negative</td>\n",
       "      <td>0</td>\n",
       "    </tr>\n",
       "    <tr>\n",
       "      <th>241569</th>\n",
       "      <td>_NUMBER_ lift floor</td>\n",
       "      <td>0</td>\n",
       "    </tr>\n",
       "  </tbody>\n",
       "</table>\n",
       "</div>\n",
       "      <button class=\"colab-df-convert\" onclick=\"convertToInteractive('df-ebb244e5-8055-42e4-a8a4-08720da22c29')\"\n",
       "              title=\"Convert this dataframe to an interactive table.\"\n",
       "              style=\"display:none;\">\n",
       "        \n",
       "  <svg xmlns=\"http://www.w3.org/2000/svg\" height=\"24px\"viewBox=\"0 0 24 24\"\n",
       "       width=\"24px\">\n",
       "    <path d=\"M0 0h24v24H0V0z\" fill=\"none\"/>\n",
       "    <path d=\"M18.56 5.44l.94 2.06.94-2.06 2.06-.94-2.06-.94-.94-2.06-.94 2.06-2.06.94zm-11 1L8.5 8.5l.94-2.06 2.06-.94-2.06-.94L8.5 2.5l-.94 2.06-2.06.94zm10 10l.94 2.06.94-2.06 2.06-.94-2.06-.94-.94-2.06-.94 2.06-2.06.94z\"/><path d=\"M17.41 7.96l-1.37-1.37c-.4-.4-.92-.59-1.43-.59-.52 0-1.04.2-1.43.59L10.3 9.45l-7.72 7.72c-.78.78-.78 2.05 0 2.83L4 21.41c.39.39.9.59 1.41.59.51 0 1.02-.2 1.41-.59l7.78-7.78 2.81-2.81c.8-.78.8-2.07 0-2.86zM5.41 20L4 18.59l7.72-7.72 1.47 1.35L5.41 20z\"/>\n",
       "  </svg>\n",
       "      </button>\n",
       "      \n",
       "  <style>\n",
       "    .colab-df-container {\n",
       "      display:flex;\n",
       "      flex-wrap:wrap;\n",
       "      gap: 12px;\n",
       "    }\n",
       "\n",
       "    .colab-df-convert {\n",
       "      background-color: #E8F0FE;\n",
       "      border: none;\n",
       "      border-radius: 50%;\n",
       "      cursor: pointer;\n",
       "      display: none;\n",
       "      fill: #1967D2;\n",
       "      height: 32px;\n",
       "      padding: 0 0 0 0;\n",
       "      width: 32px;\n",
       "    }\n",
       "\n",
       "    .colab-df-convert:hover {\n",
       "      background-color: #E2EBFA;\n",
       "      box-shadow: 0px 1px 2px rgba(60, 64, 67, 0.3), 0px 1px 3px 1px rgba(60, 64, 67, 0.15);\n",
       "      fill: #174EA6;\n",
       "    }\n",
       "\n",
       "    [theme=dark] .colab-df-convert {\n",
       "      background-color: #3B4455;\n",
       "      fill: #D2E3FC;\n",
       "    }\n",
       "\n",
       "    [theme=dark] .colab-df-convert:hover {\n",
       "      background-color: #434B5C;\n",
       "      box-shadow: 0px 1px 3px 1px rgba(0, 0, 0, 0.15);\n",
       "      filter: drop-shadow(0px 1px 2px rgba(0, 0, 0, 0.3));\n",
       "      fill: #FFFFFF;\n",
       "    }\n",
       "  </style>\n",
       "\n",
       "      <script>\n",
       "        const buttonEl =\n",
       "          document.querySelector('#df-ebb244e5-8055-42e4-a8a4-08720da22c29 button.colab-df-convert');\n",
       "        buttonEl.style.display =\n",
       "          google.colab.kernel.accessAllowed ? 'block' : 'none';\n",
       "\n",
       "        async function convertToInteractive(key) {\n",
       "          const element = document.querySelector('#df-ebb244e5-8055-42e4-a8a4-08720da22c29');\n",
       "          const dataTable =\n",
       "            await google.colab.kernel.invokeFunction('convertToInteractive',\n",
       "                                                     [key], {});\n",
       "          if (!dataTable) return;\n",
       "\n",
       "          const docLinkHtml = 'Like what you see? Visit the ' +\n",
       "            '<a target=\"_blank\" href=https://colab.research.google.com/notebooks/data_table.ipynb>data table notebook</a>'\n",
       "            + ' to learn more about interactive tables.';\n",
       "          element.innerHTML = '';\n",
       "          dataTable['output_type'] = 'display_data';\n",
       "          await google.colab.output.renderOutput(dataTable, element);\n",
       "          const docLink = document.createElement('div');\n",
       "          docLink.innerHTML = docLinkHtml;\n",
       "          element.appendChild(docLink);\n",
       "        }\n",
       "      </script>\n",
       "    </div>\n",
       "  </div>\n",
       "  "
      ],
      "text/plain": [
       "                                          review  label\n",
       "241565                 little food availability       0\n",
       "241566  small reception small _NUMBER_ hour bar       0\n",
       "241567                                room warm       0\n",
       "241568                              no negative       0\n",
       "241569                      _NUMBER_ lift floor       0"
      ]
     },
     "execution_count": 23,
     "metadata": {},
     "output_type": "execute_result"
    }
   ],
   "source": [
    "review.tail()"
   ]
  },
  {
   "cell_type": "code",
   "execution_count": 21,
   "metadata": {
    "id": "1sON1_K8FfvC"
   },
   "outputs": [],
   "source": [
    "pos['label']=1"
   ]
  },
  {
   "cell_type": "code",
   "execution_count": 22,
   "metadata": {
    "id": "LAJh2CtFkTOm"
   },
   "outputs": [],
   "source": [
    "review = pd.concat([pos,neg]).reset_index(drop=True)"
   ]
  },
  {
   "cell_type": "code",
   "execution_count": 79,
   "metadata": {
    "id": "yJyU3bQLx3Jm"
   },
   "outputs": [],
   "source": [
    "# stopwords_removed_docs = list(\n",
    "#     map(lambda doc: \" \".join([token.text for token in nlp(doc) if not token.is_stop]), docs))"
   ]
  },
  {
   "cell_type": "markdown",
   "metadata": {
    "id": "qi0vZNeyx3Jn"
   },
   "source": [
    "## Tokenize Text"
   ]
  },
  {
   "cell_type": "code",
   "execution_count": 24,
   "metadata": {
    "colab": {
     "base_uri": "https://localhost:8080/"
    },
    "id": "2ZpAjhOMGxBT",
    "outputId": "92c12709-21bc-4b3e-87bd-bf75451c59f7"
   },
   "outputs": [
    {
     "data": {
      "text/plain": [
       "pandas.core.series.Series"
      ]
     },
     "execution_count": 24,
     "metadata": {},
     "output_type": "execute_result"
    }
   ],
   "source": [
    "docs = review['review']\n",
    "type(docs)"
   ]
  },
  {
   "cell_type": "code",
   "execution_count": 25,
   "metadata": {
    "id": "63ce6E3sx3Jn"
   },
   "outputs": [],
   "source": [
    "from keras.preprocessing.text import Tokenizer\n",
    "tokenizer = Tokenizer(num_words=10_000, oov_token=\"UNKNOWN_TOKEN\")\n",
    "tokenizer.fit_on_texts(docs)"
   ]
  },
  {
   "cell_type": "markdown",
   "metadata": {
    "id": "A3bWcZ-Tx3Jn"
   },
   "source": [
    "## Integer Encode Documents"
   ]
  },
  {
   "cell_type": "code",
   "execution_count": 26,
   "metadata": {
    "colab": {
     "base_uri": "https://localhost:8080/"
    },
    "id": "04lAmtSYHZPb",
    "outputId": "9a0584c6-9e7c-4f5a-99d3-ab76998c6545"
   },
   "outputs": [
    {
     "data": {
      "text/plain": [
       "0         great location nice surroundings bar restauran...\n",
       "1         room spacious bright locate quiet beautiful park \n",
       "2         good location set lovely park friendly staff f...\n",
       "3         room stunningly decorate spacious building pic...\n",
       "4                          comfortableee bed good location \n",
       "                                ...                        \n",
       "241565                            little food availability \n",
       "241566             small reception small _NUMBER_ hour bar \n",
       "241567                                           room warm \n",
       "241568                                         no negative \n",
       "241569                                 _NUMBER_ lift floor \n",
       "Name: review, Length: 241570, dtype: object"
      ]
     },
     "execution_count": 26,
     "metadata": {},
     "output_type": "execute_result"
    }
   ],
   "source": [
    "docs"
   ]
  },
  {
   "cell_type": "code",
   "execution_count": 27,
   "metadata": {
    "colab": {
     "base_uri": "https://localhost:8080/"
    },
    "id": "r31RJmcnx3Jo",
    "outputId": "98d6d888-5ab1-4a19-b0c3-bdcb3bebbcb5"
   },
   "outputs": [
    {
     "name": "stdout",
     "output_type": "stream",
     "text": [
      "Max length of sequences is 190\n"
     ]
    }
   ],
   "source": [
    "from typing import List\n",
    "def get_max_token_length_per_doc(docs: List[List[str]])-> int:\n",
    "    return max(list(map(lambda x: len(x.split()), docs)))\n",
    "\n",
    "# get the max length in terms of token length\n",
    "max_length = get_max_token_length_per_doc(docs)\n",
    "print(f\"Max length of sequences is {max_length}\")\n",
    "\n",
    "def integer_encode_documents(docs, tokenizer):\n",
    "    return tokenizer.texts_to_sequences(docs)\n",
    "\n",
    "from keras.preprocessing.sequence import pad_sequences\n",
    "MAX_SEQUENCE_LENGTH = 100\n",
    "# integer encode the documents\n",
    "encoded_docs = integer_encode_documents(docs, tokenizer)\n",
    "# this is a list of lists, the numbers represent the index position of that word.\n",
    "# for instance, 33 means the 33rd word in the vocabulary\n",
    "padded_docs = pad_sequences(encoded_docs, maxlen=MAX_SEQUENCE_LENGTH, padding='post')"
   ]
  },
  {
   "cell_type": "code",
   "execution_count": 28,
   "metadata": {
    "colab": {
     "base_uri": "https://localhost:8080/"
    },
    "id": "LkS8PiReJ5PV",
    "outputId": "fecf6620-af97-42a9-9f9f-17b3b67a5f5d"
   },
   "outputs": [
    {
     "data": {
      "text/plain": [
       "241570"
      ]
     },
     "execution_count": 28,
     "metadata": {},
     "output_type": "execute_result"
    }
   ],
   "source": [
    "len(padded_docs)"
   ]
  },
  {
   "cell_type": "markdown",
   "metadata": {
    "id": "ZxjBHlgex3Jo"
   },
   "source": [
    "## Load in GloVe Vectors\n",
    "Download the actual Glove vectors from S3 and unzip them."
   ]
  },
  {
   "cell_type": "code",
   "execution_count": 29,
   "metadata": {
    "colab": {
     "base_uri": "https://localhost:8080/"
    },
    "id": "-irankP002no",
    "outputId": "688de699-466b-40fe-de51-b62092ac6463"
   },
   "outputs": [
    {
     "name": "stdout",
     "output_type": "stream",
     "text": [
      "--2022-05-12 12:49:49--  https://dso-560-nlp-text-analytics.s3.amazonaws.com/glove6b100dtxt.zip\n",
      "Resolving dso-560-nlp-text-analytics.s3.amazonaws.com (dso-560-nlp-text-analytics.s3.amazonaws.com)... 52.217.110.108\n",
      "Connecting to dso-560-nlp-text-analytics.s3.amazonaws.com (dso-560-nlp-text-analytics.s3.amazonaws.com)|52.217.110.108|:443... connected.\n",
      "HTTP request sent, awaiting response... 200 OK\n",
      "Length: 137847651 (131M) [application/zip]\n",
      "Saving to: ‘glove6b100dtxt.zip’\n",
      "\n",
      "glove6b100dtxt.zip  100%[===================>] 131.46M  41.8MB/s    in 3.1s    \n",
      "\n",
      "2022-05-12 12:49:52 (41.8 MB/s) - ‘glove6b100dtxt.zip’ saved [137847651/137847651]\n",
      "\n",
      "Archive:  glove6b100dtxt.zip\n",
      "  inflating: glove.6B.100d.txt       \n"
     ]
    }
   ],
   "source": [
    "!wget https://dso-560-nlp-text-analytics.s3.amazonaws.com/glove6b100dtxt.zip\n",
    "!unzip glove6b100dtxt.zip "
   ]
  },
  {
   "cell_type": "code",
   "execution_count": 30,
   "metadata": {
    "colab": {
     "base_uri": "https://localhost:8080/"
    },
    "id": "dehu7nVDx3Jo",
    "outputId": "d604c0c0-86e3-4ef6-f0db-199499654743"
   },
   "outputs": [
    {
     "name": "stdout",
     "output_type": "stream",
     "text": [
      "Loaded 400000 word vectors.\n"
     ]
    }
   ],
   "source": [
    "import numpy as np\n",
    "def load_glove_vectors():\n",
    "    embeddings_index = {}\n",
    "    with open('glove.6B.100d.txt') as f:\n",
    "        for line in f:\n",
    "            values = line.split()\n",
    "            word = values[0]\n",
    "            coefs = np.asarray(values[1:], dtype='float32')\n",
    "            embeddings_index[word] = coefs\n",
    "    print('Loaded %s word vectors.' % len(embeddings_index))\n",
    "    return embeddings_index\n",
    "\n",
    "\n",
    "embeddings_index = load_glove_vectors()"
   ]
  },
  {
   "cell_type": "markdown",
   "metadata": {
    "id": "r4rgGSm7x3Jp"
   },
   "source": [
    "## Load in Embeddings Matrix"
   ]
  },
  {
   "cell_type": "code",
   "execution_count": 31,
   "metadata": {
    "id": "X_Cig_7fx3Jp"
   },
   "outputs": [],
   "source": [
    "# create a weight matrix for words in training docs\n",
    "VOCAB_SIZE = 25_000\n",
    "embedding_matrix = np.zeros((VOCAB_SIZE, 100))\n",
    "for word, i in tokenizer.word_index.items():\n",
    "    embedding_vector = embeddings_index.get(word)\n",
    "    if embedding_vector is not None: # check that it is an actual word that we have embeddings for\n",
    "        embedding_matrix[i] = embedding_vector"
   ]
  },
  {
   "cell_type": "markdown",
   "metadata": {
    "id": "XWW0c0fJx3Jp"
   },
   "source": [
    "## Define an LSTM Model"
   ]
  },
  {
   "cell_type": "code",
   "execution_count": 35,
   "metadata": {
    "id": "srKvkF4zUuGw"
   },
   "outputs": [],
   "source": [
    "from keras.layers.recurrent import SimpleRNN, LSTM\n",
    "from keras.layers import Flatten, Masking\n",
    "from keras.layers import Embedding\n",
    "import keras"
   ]
  },
  {
   "cell_type": "code",
   "execution_count": 30,
   "metadata": {
    "id": "jqbw-eyVx3Jp"
   },
   "outputs": [],
   "source": [
    "from keras.layers.recurrent import SimpleRNN, LSTM\n",
    "from keras.layers import Flatten, Masking\n",
    "from keras.layers import Embedding\n",
    "import keras\n",
    "def make_lstm_classification_model(plot=False, sequence_length = 100, vocab_size = 25000):\n",
    "    model = keras.models.Sequential()\n",
    "    model.add(Embedding(vocab_size, 100, weights=[embedding_matrix], input_length=sequence_length, trainable=False))\n",
    "    model.add(Masking(mask_value=0.0)) # masking layer, masks any words that don't have an embedding as 0s.\n",
    "    model.add(LSTM(units=64, input_shape=(1, sequence_length)))\n",
    "    model.add(Dense(16))\n",
    "    model.add(Dense(1, activation='sigmoid'))\n",
    "    \n",
    "    # Compile the model\n",
    "    model.compile(\n",
    "    optimizer='adam', loss='binary_crossentropy', metrics=['accuracy'])\n",
    "    # summarize the model\n",
    "    model.summary()\n",
    "    \n",
    "    if plot:\n",
    "        plot_model(model, to_file='model.png', show_shapes=True)\n",
    "    return model"
   ]
  },
  {
   "cell_type": "markdown",
   "metadata": {
    "id": "HDuCukKxx3Jq"
   },
   "source": [
    "## Inside One LSTM Cell\n",
    "![LSTM](https://github.com/ychennay/dso-560-nlp-text-analytics/blob/main/images/lstm_architecture.jpg?raw=1)"
   ]
  },
  {
   "cell_type": "code",
   "execution_count": 31,
   "metadata": {
    "colab": {
     "base_uri": "https://localhost:8080/"
    },
    "id": "gYP2QwWBx3Jq",
    "outputId": "70885c74-fc2b-4d2e-b238-73f8056f5d2b"
   },
   "outputs": [
    {
     "name": "stdout",
     "output_type": "stream",
     "text": [
      "Model: \"sequential_1\"\n",
      "_________________________________________________________________\n",
      " Layer (type)                Output Shape              Param #   \n",
      "=================================================================\n",
      " embedding_1 (Embedding)     (None, 100, 100)          2500000   \n",
      "                                                                 \n",
      " masking (Masking)           (None, 100, 100)          0         \n",
      "                                                                 \n",
      " lstm (LSTM)                 (None, 64)                42240     \n",
      "                                                                 \n",
      " dense (Dense)               (None, 16)                1040      \n",
      "                                                                 \n",
      " dense_1 (Dense)             (None, 1)                 17        \n",
      "                                                                 \n",
      "=================================================================\n",
      "Total params: 2,543,297\n",
      "Trainable params: 43,297\n",
      "Non-trainable params: 2,500,000\n",
      "_________________________________________________________________\n"
     ]
    }
   ],
   "source": [
    "lstm_model = make_lstm_classification_model()"
   ]
  },
  {
   "cell_type": "markdown",
   "metadata": {
    "id": "_jPabseIx3Jq"
   },
   "source": [
    "## Split Into Train/Test"
   ]
  },
  {
   "cell_type": "code",
   "execution_count": 36,
   "metadata": {
    "id": "EjakgwaEH_uE"
   },
   "outputs": [],
   "source": [
    "labels=review['label']"
   ]
  },
  {
   "cell_type": "code",
   "execution_count": 37,
   "metadata": {
    "colab": {
     "base_uri": "https://localhost:8080/"
    },
    "id": "Ct0YN74qIPCM",
    "outputId": "85af4662-1570-4a2e-e814-e9805d68b86f"
   },
   "outputs": [
    {
     "data": {
      "text/plain": [
       "241570"
      ]
     },
     "execution_count": 37,
     "metadata": {},
     "output_type": "execute_result"
    }
   ],
   "source": [
    "len(padded_docs)"
   ]
  },
  {
   "cell_type": "code",
   "execution_count": 38,
   "metadata": {
    "id": "UiydCHB5x3Jq"
   },
   "outputs": [],
   "source": [
    "from sklearn.model_selection import train_test_split\n",
    "X_train, X_test, y_train, y_test = train_test_split(padded_docs, labels, test_size=0.2)"
   ]
  },
  {
   "cell_type": "markdown",
   "metadata": {
    "id": "--RAzQBM2UzZ"
   },
   "source": [
    "#### Train LSTM Model"
   ]
  },
  {
   "cell_type": "code",
   "execution_count": 35,
   "metadata": {
    "colab": {
     "base_uri": "https://localhost:8080/"
    },
    "id": "vL8uWHVsx3Jq",
    "outputId": "8610358c-c783-4470-9643-61308ab2ef00"
   },
   "outputs": [
    {
     "name": "stdout",
     "output_type": "stream",
     "text": [
      "Epoch 1/3\n",
      "6795/6795 [==============================] - 897s 131ms/step - loss: 0.1372 - accuracy: 0.9470 - val_loss: 0.1205 - val_accuracy: 0.9573\n",
      "Epoch 2/3\n",
      "6795/6795 [==============================] - 883s 130ms/step - loss: 0.1089 - accuracy: 0.9590 - val_loss: 0.0966 - val_accuracy: 0.9668\n",
      "Epoch 3/3\n",
      "6795/6795 [==============================] - 879s 129ms/step - loss: 0.0984 - accuracy: 0.9628 - val_loss: 0.1276 - val_accuracy: 0.9574\n"
     ]
    }
   ],
   "source": [
    "# fit the model\n",
    "history = lstm_model.fit(padded_docs, labels, validation_split = 0.1, epochs=3, verbose=1)"
   ]
  },
  {
   "cell_type": "code",
   "execution_count": null,
   "metadata": {
    "colab": {
     "base_uri": "https://localhost:8080/",
     "height": 204
    },
    "id": "0lPqA0UPx3Jq",
    "outputId": "5055f878-a297-4f27-cec6-b20f253ae6ea"
   },
   "outputs": [],
   "source": [
    "import matplotlib.pyplot as plt # From https://keras.io/visualization/\n",
    "\n",
    "\n",
    "def plot_performance(history):\n",
    "    # Plot training & validation accuracy values\n",
    "    plt.plot(history.history['accuracy'])\n",
    "    plt.plot(history.history['val_accuracy'])\n",
    "    plt.title('Model accuracy')\n",
    "    plt.ylabel('Accuracy')\n",
    "    plt.xlabel('Epoch')\n",
    "    plt.legend(['Train', 'Test'], loc='upper left')\n",
    "    plt.show()\n",
    "\n",
    "plot_performance(history)"
   ]
  },
  {
   "cell_type": "markdown",
   "metadata": {
    "id": "ij6xhycwx3Jq"
   },
   "source": [
    "# Ways to Improve Performance"
   ]
  },
  {
   "cell_type": "markdown",
   "metadata": {
    "id": "izv5rpBvx3Jq"
   },
   "source": [
    "* **feature engineer** the text by grouping collocated tokens, removing stopwords, etc.\n",
    "\n",
    "* **use K-Folds cross-validation** to \"use\" more of the dataset in the training/validation/testing process.\n",
    "\n",
    "* **train your own custom domain-specific embeddings** (instead of using generic pre-trained ones)\n",
    "\n",
    "* **tune hyperparameters** - neural network architecture, activation functions, etc. \n",
    "\n",
    "* **enrich the data** using augmented datasets as features"
   ]
  },
  {
   "cell_type": "markdown",
   "metadata": {
    "id": "hdgrwORCx3Jq"
   },
   "source": [
    "## Self Attention Model\n",
    "\n",
    "Let's define a function to generate our self attention model. We'll install another library that augments Keras and creates self attention layers for us to use called `keras_self_attention` ([Github](https://pypi.org/project/keras-self-attention/))."
   ]
  },
  {
   "cell_type": "code",
   "execution_count": 32,
   "metadata": {
    "colab": {
     "base_uri": "https://localhost:8080/"
    },
    "id": "oVpr-4jKz7b9",
    "outputId": "f01e80dd-936c-46e4-910e-3d43a2f6cafc"
   },
   "outputs": [
    {
     "name": "stdout",
     "output_type": "stream",
     "text": [
      "Collecting keras_self_attention\n",
      "  Downloading keras-self-attention-0.51.0.tar.gz (11 kB)\n",
      "Requirement already satisfied: numpy in /usr/local/lib/python3.7/dist-packages (from keras_self_attention) (1.21.6)\n",
      "Building wheels for collected packages: keras-self-attention\n",
      "  Building wheel for keras-self-attention (setup.py) ... \u001b[?25l\u001b[?25hdone\n",
      "  Created wheel for keras-self-attention: filename=keras_self_attention-0.51.0-py3-none-any.whl size=18912 sha256=94d7e83298e2c20876d220ec4affa5c9c8845d6fc2364edafa4b21901c1b48af\n",
      "  Stored in directory: /root/.cache/pip/wheels/95/b1/a8/5ee00cc137940b2f6fa198212e8f45d813d0e0d9c3a04035a3\n",
      "Successfully built keras-self-attention\n",
      "Installing collected packages: keras-self-attention\n",
      "Successfully installed keras-self-attention-0.51.0\n"
     ]
    }
   ],
   "source": [
    "!pip install keras_self_attention"
   ]
  },
  {
   "cell_type": "code",
   "execution_count": 39,
   "metadata": {
    "id": "pu7CCjbdx3Jq"
   },
   "outputs": [],
   "source": [
    "from keras_self_attention import SeqSelfAttention\n",
    "def make_self_attention_model(vocab_size=25_000, sequence_length = 100):\n",
    "    model = keras.models.Sequential()\n",
    "    model.add(Embedding(vocab_size, 100, weights=[embedding_matrix], input_length=sequence_length, trainable=False))\n",
    "    model.add(keras.layers.Bidirectional(keras.layers.LSTM(units=300,\n",
    "                                                           return_sequences=True)))\n",
    "    model.add(SeqSelfAttention(attention_activation='sigmoid'))\n",
    "    model.add(keras.layers.Dense(units=1))\n",
    "    model.compile(\n",
    "        optimizer='adam',\n",
    "        loss='binary_crossentropy',\n",
    "        metrics=['accuracy'],\n",
    "    )\n",
    "    model.summary()\n",
    "    return model"
   ]
  },
  {
   "cell_type": "markdown",
   "metadata": {
    "id": "-8mVdHLpx3Jq"
   },
   "source": [
    "### Notes:\n",
    "\n",
    "Each LSTM has a hidden state and memory. You can ask `keras` to return the vectors that represent these sequences by using:\n",
    "\n",
    "#### Difference Between `return_sequences` and `return_states`\n",
    "\n",
    "```python\n",
    "LSTM(HIDDEN_STATE_DIMENSIONS, return_sequences=True)\n",
    "```\n",
    "\n",
    "If you had a `SEQUENCE_LENGTH` of **20**, and a `HIDDEN_STATE_DIMENSIONS` of **64**, then you'll produce a matrix of shape `64 x 20` as your `return_sequence`.\n",
    "\n",
    "On the other hand, `return_states` will return both the memory cells (`c`) as well as the hidden state `h`:\n",
    "\n",
    "```\n",
    "lstm, state_h, state_c = LSTM(..., return_state=True)\n",
    "```\n",
    "\n",
    "Here, `lstm` will be your LSTM model, `state_h` is your hidden state, and `state_c` is your cell memory state. \n",
    "\n",
    "Example from [Keras Returning Hidden State in RNNs](http://digital-thinking.de/keras-returning-hidden-state-in-rnns/):\n",
    "```\n",
    "inputs1 = Input(shape=(5, 1))\n",
    "lstm1, state_h, state_c = LSTM(1, return_state=True, return_sequences=True)(inputs1)\n",
    "model = Model(inputs=inputs1, outputs=[lstm1, state_h, state_c])\n",
    "data = array([0.1, 0.2, 0.3, 0.4, 0.5]).reshape((1,5,1))\n",
    "print(model.predict(data))\n",
    "```\n",
    "The output of this is\n",
    "```\n",
    "[array([[[0.00734747],\n",
    "        [0.02000349],\n",
    "        [0.03651035],\n",
    "        [0.05576567],\n",
    "        [0.07689518]]], dtype=float32), array([[0.07689518]], dtype=float32), array([[0.15496857]], dtype=float32)]\n",
    "```"
   ]
  },
  {
   "cell_type": "markdown",
   "metadata": {
    "id": "qJvRF_gkx3Jr"
   },
   "source": [
    "## Model High-Level Architecture\n",
    "![architecture](https://github.com/ychennay/dso-560-nlp-text-analytics/blob/main/images/lstm_arch.png?raw=1)"
   ]
  },
  {
   "cell_type": "code",
   "execution_count": 40,
   "metadata": {
    "colab": {
     "base_uri": "https://localhost:8080/"
    },
    "id": "HynIzPQHx3Jr",
    "outputId": "9cb71be2-8a9b-43ad-ef9f-07e00b0b3708",
    "scrolled": true
   },
   "outputs": [
    {
     "name": "stdout",
     "output_type": "stream",
     "text": [
      "Model: \"sequential\"\n",
      "_________________________________________________________________\n",
      " Layer (type)                Output Shape              Param #   \n",
      "=================================================================\n",
      " embedding (Embedding)       (None, 100, 100)          2500000   \n",
      "                                                                 \n",
      " bidirectional (Bidirectiona  (None, 100, 600)         962400    \n",
      " l)                                                              \n",
      "                                                                 \n",
      " seq_self_attention (SeqSelf  (None, 100, 600)         38465     \n",
      " Attention)                                                      \n",
      "                                                                 \n",
      " dense (Dense)               (None, 100, 1)            601       \n",
      "                                                                 \n",
      "=================================================================\n",
      "Total params: 3,501,466\n",
      "Trainable params: 1,001,466\n",
      "Non-trainable params: 2,500,000\n",
      "_________________________________________________________________\n"
     ]
    }
   ],
   "source": [
    "attention_model = make_self_attention_model()"
   ]
  },
  {
   "cell_type": "code",
   "execution_count": 41,
   "metadata": {
    "colab": {
     "base_uri": "https://localhost:8080/"
    },
    "id": "kRAxv6Fbx3Jr",
    "outputId": "6b0dcefe-f773-4a58-b8df-02b419835ec1"
   },
   "outputs": [
    {
     "name": "stdout",
     "output_type": "stream",
     "text": [
      "Epoch 1/3\n",
      "6795/6795 [==============================] - 5469s 804ms/step - loss: 0.3221 - accuracy: 0.8836 - val_loss: 0.3098 - val_accuracy: 0.9229\n",
      "Epoch 2/3\n",
      "6795/6795 [==============================] - 5554s 817ms/step - loss: 0.9237 - accuracy: 0.8790 - val_loss: 0.2289 - val_accuracy: 0.9716\n",
      "Epoch 3/3\n",
      "6795/6795 [==============================] - 5652s 832ms/step - loss: 3.5257 - accuracy: 0.7618 - val_loss: 6.3126e-04 - val_accuracy: 1.0000\n"
     ]
    }
   ],
   "source": [
    "attention_history = attention_model.fit(padded_docs, labels,validation_split = 0.1, epochs=3, verbose=1)"
   ]
  },
  {
   "cell_type": "code",
   "execution_count": 45,
   "metadata": {
    "id": "YHuhkiRCVfC5"
   },
   "outputs": [],
   "source": [
    "import matplotlib.pyplot as plt # From https://keras.io/visualization/\n",
    "\n",
    "\n",
    "def plot_performance(history):\n",
    "    # Plot training & validation accuracy values\n",
    "    plt.plot(history.history['accuracy'])\n",
    "    plt.plot(history.history['val_accuracy'])\n",
    "    plt.title('Model accuracy')\n",
    "    plt.ylabel('Accuracy')\n",
    "    plt.xlabel('Epoch')\n",
    "    plt.legend(['Train', 'Test'], loc='upper left')\n",
    "    plt.show()"
   ]
  },
  {
   "cell_type": "code",
   "execution_count": 46,
   "metadata": {
    "colab": {
     "base_uri": "https://localhost:8080/",
     "height": 295
    },
    "id": "xmd-XvNMx3Jr",
    "outputId": "70c7f1bc-2f8b-4ad3-9ae1-d61eabbb3fc8"
   },
   "outputs": [
    {
     "data": {
      "image/png": "[encoded data removed]",
      "text/plain": [
       "<Figure size 432x288 with 1 Axes>"
      ]
     },
     "metadata": {
      "needs_background": "light"
     },
     "output_type": "display_data"
    }
   ],
   "source": [
    "plot_performance(attention_history)"
   ]
  },
  {
   "cell_type": "code",
   "execution_count": 47,
   "metadata": {
    "colab": {
     "base_uri": "https://localhost:8080/"
    },
    "id": "zYqHy6Ofx3Jr",
    "outputId": "1b09d634-7c77-43cf-a9d0-f0ddf6fca183"
   },
   "outputs": [
    {
     "name": "stdout",
     "output_type": "stream",
     "text": [
      "The sequence length is 100.\n",
      "The input is of shape (193256, 100).\n",
      "The vocabulary size is 25000.\n",
      "The word embedding dimensions size is 100.\n",
      "The hidden state dimension size is 100.\n",
      "(25000, 100)\n",
      "(100, 1200)\n",
      "(300, 1200)\n",
      "(1200,)\n",
      "(100, 1200)\n",
      "(300, 1200)\n",
      "(1200,)\n",
      "(600, 32)\n",
      "(600, 32)\n",
      "(32,)\n",
      "(32, 1)\n",
      "(1,)\n",
      "(600, 1)\n",
      "(1,)\n"
     ]
    }
   ],
   "source": [
    "weights = attention_model.get_weights()\n",
    "print(f\"The sequence length is {MAX_SEQUENCE_LENGTH}.\")\n",
    "print(f\"The input is of shape {X_train.shape}.\")\n",
    "print(f\"The vocabulary size is {VOCAB_SIZE}.\")\n",
    "print(f\"The word embedding dimensions size is 100.\")\n",
    "print(f\"The hidden state dimension size is {MAX_SEQUENCE_LENGTH}.\")\n",
    "\n",
    "weight_purposes = [\"word_embeddings\", \n",
    "                   \"data_gate_weights\", \n",
    "                   \"hidden_state_gate_weights\",\n",
    "                   \"attention \"]\n",
    "\n",
    "for weights in attention_model.get_weights():\n",
    "    print(np.array(weights).shape)"
   ]
  },
  {
   "cell_type": "code",
   "execution_count": 49,
   "metadata": {
    "colab": {
     "base_uri": "https://localhost:8080/"
    },
    "id": "MYJjborGTZnC",
    "outputId": "a295b96b-cc91-464f-c8d5-f3abaf68a41c"
   },
   "outputs": [
    {
     "data": {
      "text/plain": [
       "array([0.06868321], dtype=float32)"
      ]
     },
     "execution_count": 49,
     "metadata": {},
     "output_type": "execute_result"
    }
   ],
   "source": [
    "weights"
   ]
  },
  {
   "cell_type": "markdown",
   "metadata": {
    "id": "lKIvTIrqx3Jr"
   },
   "source": [
    "# BERT (Bi-Directional Encoder Representations of Transformers)"
   ]
  },
  {
   "cell_type": "markdown",
   "metadata": {
    "id": "Fi-EkT3kx3Jr"
   },
   "source": [
    "## High Level Architecture"
   ]
  },
  {
   "cell_type": "markdown",
   "metadata": {
    "id": "Qw0xjEcCx3Jr"
   },
   "source": [
    "![bert](https://github.com/ychennay/dso-560-nlp-text-analytics/blob/main/images/bert_architecture.png?raw=1)"
   ]
  },
  {
   "cell_type": "markdown",
   "metadata": {
    "id": "XfhtvVlPx3Jr"
   },
   "source": [
    "![comparison](https://github.com/ychennay/dso-560-nlp-text-analytics/blob/main/images/bert.webp?raw=1)"
   ]
  }
 ],
 "metadata": {
  "accelerator": "GPU",
  "colab": {
   "collapsed_sections": [],
   "name": "“LSTMs and Self-Attention for NLP.ipynb”的副本",
   "provenance": []
  },
  "kernelspec": {
   "display_name": "Python 3",
   "language": "python",
   "name": "python3"
  },
  "language_info": {
   "codemirror_mode": {
    "name": "ipython",
    "version": 3
   },
   "file_extension": ".py",
   "mimetype": "text/x-python",
   "name": "python",
   "nbconvert_exporter": "python",
   "pygments_lexer": "ipython3",
   "version": "3.8.8"
  },
  "toc": {
   "base_numbering": 1,
   "nav_menu": {},
   "number_sections": true,
   "sideBar": true,
   "skip_h1_title": false,
   "title_cell": "Table of Contents",
   "title_sidebar": "Contents",
   "toc_cell": false,
   "toc_position": {},
   "toc_section_display": true,
   "toc_window_display": false
  }
 },
 "nbformat": 4,
 "nbformat_minor": 1
}
